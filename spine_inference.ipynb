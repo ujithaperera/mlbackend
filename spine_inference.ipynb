{
 "cells": [
  {
   "cell_type": "code",
   "execution_count": 2,
   "metadata": {},
   "outputs": [
    {
     "name": "stderr",
     "output_type": "stream",
     "text": [
      "YOLOR  v0.1-115-g072f76c torch 1.11.0 CUDA:0 (NVIDIA GeForce RTX 3060 Laptop GPU, 6143.5MB)\n",
      "\n"
     ]
    },
    {
     "name": "stdout",
     "output_type": "stream",
     "text": [
      "Fusing layers... \n",
      "IDetect.fuse\n"
     ]
    },
    {
     "name": "stderr",
     "output_type": "stream",
     "text": [
      "Model Summary: 208 layers, 6007596 parameters, 0 gradients, 13.0 GFLOPS\n"
     ]
    },
    {
     "name": "stdout",
     "output_type": "stream",
     "text": [
      " Convert model to Traced-model... \n",
      " traced_script_module saved! \n",
      " model is traced! \n",
      "\n"
     ]
    }
   ],
   "source": [
    "import numpy as np\n",
    "import os, cv2, torch\n",
    "from pathlib import Path\n",
    "\n",
    "from utils.plots import plot_one_box\n",
    "from utils.datasets import LoadImages\n",
    "from models.experimental import attempt_load\n",
    "from utils.torch_utils import select_device, TracedModel\n",
    "from utils.general import check_img_size, non_max_suppression, scale_coords, set_logging\n",
    "##########################################################################################\n",
    "\n",
    "agnostic_nms=False\n",
    "save_conf=False\n",
    "exist_ok=False\n",
    "save_txt=False\n",
    "view_img=False\n",
    "save_img=True\n",
    "augment=False\n",
    "update=False\n",
    "trace = True\n",
    "nosave=False\n",
    "classes=None\n",
    "\n",
    "device='0'\n",
    "img_size=640\n",
    "iou_thres=0.45\n",
    "conf_thres=0.25\n",
    "\n",
    "save_dir='inference/detected'\n",
    "weights='weights/spine_detector.pt'\n",
    "\n",
    "###########################################################################################\n",
    "set_logging()\n",
    "device = select_device(device)\n",
    "half = device.type != 'cpu'  # half precision only supported on CUDA\n",
    "\n",
    "# Load model\n",
    "model = attempt_load(weights, map_location=device)  # load FP32 model\n",
    "stride = int(model.stride.max())  # model stride\n",
    "imgsz = check_img_size(640, s=stride)  # check img_size\n",
    "\n",
    "if trace:\n",
    "    model = TracedModel(model, device, img_size)\n",
    "\n",
    "if half:\n",
    "    model.half()  # to FP16\n",
    "###############################################################################################\n",
    "\n",
    "def detect(source):\n",
    "    dataset = LoadImages(source, img_size=imgsz, stride=stride)\n",
    "    names = model.module.names if hasattr(model, 'module') else model.names\n",
    "    colors = [[np.random.randint(0, 255) for _ in range(3)] for _ in names]\n",
    "\n",
    "    # Run inference\n",
    "    if device.type != 'cpu':\n",
    "        model(torch.zeros(1, 3, imgsz, imgsz).to(device).type_as(next(model.parameters())))  # run once\n",
    "    old_img_w = old_img_h = imgsz\n",
    "    old_img_b = 1\n",
    "\n",
    "    bbox_predictions = []\n",
    "    for path, img, im0s, _ in dataset:\n",
    "        img = torch.from_numpy(img).to(device)\n",
    "        img = img.half() if half else img.float()  # uint8 to fp16/32\n",
    "        img /= 255.0  # 0 - 255 to 0.0 - 1.0\n",
    "        if img.ndimension() == 3:\n",
    "            img = img.unsqueeze(0)\n",
    "\n",
    "        # Warmup\n",
    "        if device.type != 'cpu' and (old_img_b != img.shape[0] or old_img_h != img.shape[2] or old_img_w != img.shape[3]):\n",
    "            old_img_b = img.shape[0]\n",
    "            old_img_h = img.shape[2]\n",
    "            old_img_w = img.shape[3]\n",
    "            for _ in range(3):\n",
    "                model(img, augment=augment)[0]\n",
    "\n",
    "        # Inference\n",
    "        with torch.no_grad():   # Calculating gradients would cause a GPU memory leak\n",
    "            pred = model(img, augment=augment)[0]\n",
    "\n",
    "        # Apply NMS\n",
    "        pred = non_max_suppression(pred, conf_thres, iou_thres, classes=classes, agnostic=agnostic_nms)\n",
    "\n",
    "        # Process detections\n",
    "        bbox_prediction = []\n",
    "        for i, det in enumerate(pred):  # detections per image\n",
    "            p, s, im0, _ = path, '', im0s, getattr(dataset, 'frame', 0)\n",
    "\n",
    "            p = Path(p)  # to Path\n",
    "            p_dir = p.name.split('.')[0]\n",
    "            os.makedirs(save_dir + '/' + p_dir, exist_ok=True)  # make dir\n",
    "            save_path = save_dir + '/' + p_dir + '/' + p.name  # img.jpg\n",
    "            if len(det):\n",
    "                # Rescale boxes from img_size to im0 size\n",
    "                det[:, :4] = scale_coords(img.shape[2:], det[:, :4], im0.shape).round()\n",
    "\n",
    "                # Print results\n",
    "                for c in det[:, -1].unique():\n",
    "                    n = (det[:, -1] == c).sum()  # detections per class\n",
    "                    s += f\"{n} {names[int(c)]}{'s' * (n > 1)}, \"  # add to string\n",
    "\n",
    "                # Write results\n",
    "                for *xyxy, conf, cls in reversed(det):\n",
    "                    if save_img or view_img:  # Add bbox to image\n",
    "                        label = f'{names[int(cls)]} {conf:.2f}'\n",
    "                        bbox_prediction.append([int(xyxy[0]), int(xyxy[1]), int(xyxy[2]), int(xyxy[3])])\n",
    "                        plot_one_box(xyxy, im0, label=label, color=colors[int(cls)], line_thickness=1)\n",
    "\n",
    "            # Stream results\n",
    "            if view_img:\n",
    "                cv2.imshow(str(p), im0)\n",
    "                cv2.waitKey(1)  # 1 millisecond\n",
    "\n",
    "            # Save results (image with detections)\n",
    "            if save_img:\n",
    "                cv2.imwrite(save_path, im0)\n",
    "                print(f\" The image with the result is saved in: {save_path}\")\n",
    "\n",
    "    bbox_predictions.append(bbox_prediction) \n",
    "    return bbox_predictions"
   ]
  },
  {
   "cell_type": "code",
   "execution_count": 3,
   "metadata": {},
   "outputs": [
    {
     "name": "stdout",
     "output_type": "stream",
     "text": [
      " The image with the result is saved in: inference/detected/9/9.jpg\n"
     ]
    },
    {
     "data": {
      "text/plain": [
       "'39 °'"
      ]
     },
     "execution_count": 3,
     "metadata": {},
     "output_type": "execute_result"
    }
   ],
   "source": [
    "def detect_centhroids(img_dir):\n",
    "    bbox_predictions = detect(img_dir)\n",
    "    bbox_predictions = bbox_predictions[0]\n",
    "\n",
    "    centhroids = []\n",
    "    for bbox in bbox_predictions:\n",
    "        x1, y1, x2, y2 = bbox\n",
    "        centroid = (x1 + x2) / 2, (y1 + y2) / 2\n",
    "        centhroids.append(centroid)\n",
    "\n",
    "    assert len(os.listdir(img_dir)) == 1, \"Only one image file is allowed in the directory\"\n",
    "    image_file = os.listdir(img_dir)[0]\n",
    "    image_path = os.path.join(img_dir, image_file)\n",
    "    image = cv2.imread(image_path)\n",
    "    for centroid in centhroids:\n",
    "        x, y = centroid\n",
    "        cv2.circle(image, (int(x), int(y)), 5, (0, 0, 255), -1)\n",
    "\n",
    "    img_id = image_file.split('.')[0]\n",
    "    centroid_detected_path = img_dir.replace(\"images\", \"detected\") + \"/\" + f\"{img_id}_centroid_detected.jpg\"\n",
    "    cv2.imwrite(centroid_detected_path, image)\n",
    "    return centhroids, image_path\n",
    "\n",
    "def cobb_angle_calculation(centhroids, image_path):\n",
    "    centhroids_copy = centhroids.copy()\n",
    "\n",
    "    image = cv2.imread(image_path)\n",
    "    height = image.shape[0]\n",
    "    # keep points in the middle of the height\n",
    "    centhroids_middled = [centroid for centroid in centhroids_copy if centroid[1] < height / 1.5]\n",
    "    centhroids_middled = [centroid for centroid in centhroids_middled if centroid[1] > height / 4]\n",
    "\n",
    "    # sort points by y\n",
    "    centhroids_middled.sort(key=lambda x: x[1])\n",
    "    bottom_point = centhroids_middled[0]\n",
    "    top_point = centhroids_middled[-1]\n",
    "\n",
    "    rightest_point_idx = np.argmax([centroid[0] for centroid in centhroids_middled])\n",
    "    rightest_point = centhroids_middled[rightest_point_idx]\n",
    "      \n",
    "    # angle between bottom_point, top_point and rightest_point\n",
    "    l1 = np.array(bottom_point) - np.array(rightest_point)\n",
    "    l2 = np.array(top_point) - np.array(rightest_point)\n",
    "\n",
    "    cosine_angle = np.dot(l1, l2) / (np.linalg.norm(l1) * np.linalg.norm(l2))\n",
    "    angle = np.arccos(cosine_angle)\n",
    "    angle_dgree = int(np.degrees(angle) + 5)\n",
    "    cobb_angle = 180 - angle_dgree\n",
    "    return f\"{cobb_angle} °\"\n",
    "\n",
    "def scoliosis_detection(img_dir):\n",
    "    centhroids, image_path = detect_centhroids(img_dir)\n",
    "    cobb_angle = cobb_angle_calculation(centhroids, image_path)\n",
    "    return cobb_angle\n",
    "\n",
    "cobb_angle = scoliosis_detection('inference/images/9')\n",
    "cobb_angle"
   ]
  },
  {
   "cell_type": "code",
   "execution_count": null,
   "metadata": {},
   "outputs": [],
   "source": []
  }
 ],
 "metadata": {
  "kernelspec": {
   "display_name": "Python 3.8.13 ('torch111')",
   "language": "python",
   "name": "python3"
  },
  "language_info": {
   "codemirror_mode": {
    "name": "ipython",
    "version": 3
   },
   "file_extension": ".py",
   "mimetype": "text/x-python",
   "name": "python",
   "nbconvert_exporter": "python",
   "pygments_lexer": "ipython3",
   "version": "3.8.13"
  },
  "orig_nbformat": 4,
  "vscode": {
   "interpreter": {
    "hash": "38d61779fb8a2d479ca2bc1a752fe475f56efe678dc670cf5ac86029018bbcc6"
   }
  }
 },
 "nbformat": 4,
 "nbformat_minor": 2
}
